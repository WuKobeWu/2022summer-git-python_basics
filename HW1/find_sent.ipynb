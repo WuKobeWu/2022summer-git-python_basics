{
 "cells": [
  {
   "cell_type": "code",
   "execution_count": 30,
   "metadata": {},
   "outputs": [],
   "source": [
    "def group_line(str,arr):\n",
    "    if len(str)<=40:\n",
    "        arr[4] += 1\n",
    "    for j in range(5,9):\n",
    "        if len(str)<= j*10 and len(str) > (j-1)*10:\n",
    "            arr[j] += 1\n",
    "    if len(str)>80:\n",
    "        arr[9] += 1\n",
    "        \n",
    "with open('/home/akobe200/2022summer-git-python_basics/HW1/HW1.txt','r') as f:\n",
    "    count_sym = 0\n",
    "    #count_line = [0 for col in range(10)]   #;print(count_line)\n",
    "    count_line = [0 for col in range(10)]\n",
    "    strip_count_line = [0 for col in range(10)]\n",
    "\n",
    "    #count sym\n",
    "    for count, line in enumerate(f):\n",
    "        if ('?' or '!' or '+' or '-') in line:\n",
    "            count_sym += 1\n",
    "\n",
    "        #func group lines\n",
    "        group_line(line,count_line)\n",
    "\n",
    "        #delete symbol\n",
    "        for i in ['!','?','+','-']:\n",
    "            strip_line = line.replace(i,'')\n",
    "        \n",
    "        group_line(strip_line,strip_count_line)\n",
    "\n",
    "    #write in file\n",
    "    with open('/home/akobe200/2022summer-git-python_basics/HW1/ans.txt','w') as ans:\n",
    "        count += 1\n",
    "        ans.write('There are '+ '%4s'%count + ' sentences in HW1.txt.' + '%5s'%count_sym + ' of them include !?+-.\\n')\n",
    "        ans.write('length before trim after trim\\n')\n",
    "        for i in range(4,9):\n",
    "            ten = i*10\n",
    "            ans.write('  <='+'%d'%ten +'%12d'% count_line[i] + '%11d'%strip_count_line[i]+'\\n')\n",
    "        ans.write('   >80'+'%12d'% count_line[9] + '%11d'%strip_count_line[9])\n",
    "\n",
    "\n",
    "\n",
    "\n",
    "\n",
    "\n",
    "\n",
    "\n"
   ]
  },
  {
   "cell_type": "code",
   "execution_count": null,
   "metadata": {},
   "outputs": [],
   "source": []
  }
 ],
 "metadata": {
  "kernelspec": {
   "display_name": "Python 3.9.12 ('base': conda)",
   "language": "python",
   "name": "python3"
  },
  "language_info": {
   "codemirror_mode": {
    "name": "ipython",
    "version": 3
   },
   "file_extension": ".py",
   "mimetype": "text/x-python",
   "name": "python",
   "nbconvert_exporter": "python",
   "pygments_lexer": "ipython3",
   "version": "3.9.12"
  },
  "orig_nbformat": 4,
  "vscode": {
   "interpreter": {
    "hash": "955b437e4dd90eef213dfdfbdc64b98d9069ddbfe5078913b2e7aa996918b7ed"
   }
  }
 },
 "nbformat": 4,
 "nbformat_minor": 2
}
